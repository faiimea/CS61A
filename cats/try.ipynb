{
 "cells": [
  {
   "cell_type": "code",
   "execution_count": 1,
   "metadata": {},
   "outputs": [],
   "source": [
    "def time_per_word(times_per_player, words):\n",
    "    q=[]\n",
    "    for i in range(len(times_per_player)):\n",
    "        s=[]\n",
    "        for j in range(1,len(time_per_word[i])):\n",
    "            s.append(time_per_word[i][j]-time_per_word[i][j-1])\n",
    "        q.append(s)\n",
    "    return [q,words]"
   ]
  },
  {
   "cell_type": "code",
   "execution_count": 2,
   "metadata": {},
   "outputs": [
    {
     "ename": "TypeError",
     "evalue": "'function' object is not subscriptable",
     "output_type": "error",
     "traceback": [
      "\u001b[0;31m---------------------------------------------------------------------------\u001b[0m",
      "\u001b[0;31mTypeError\u001b[0m                                 Traceback (most recent call last)",
      "\u001b[1;32m/Users/liufazhong/Documents/GitHub/CS61A/cats/try.ipynb Cell 2'\u001b[0m in \u001b[0;36m<cell line: 2>\u001b[0;34m()\u001b[0m\n\u001b[1;32m      <a href='vscode-notebook-cell:/Users/liufazhong/Documents/GitHub/CS61A/cats/try.ipynb#ch0000001?line=0'>1</a>\u001b[0m p \u001b[39m=\u001b[39m [[\u001b[39m75\u001b[39m, \u001b[39m81\u001b[39m, \u001b[39m84\u001b[39m, \u001b[39m90\u001b[39m, \u001b[39m92\u001b[39m], [\u001b[39m19\u001b[39m, \u001b[39m29\u001b[39m, \u001b[39m35\u001b[39m, \u001b[39m36\u001b[39m, \u001b[39m38\u001b[39m]]\n\u001b[0;32m----> <a href='vscode-notebook-cell:/Users/liufazhong/Documents/GitHub/CS61A/cats/try.ipynb#ch0000001?line=1'>2</a>\u001b[0m game \u001b[39m=\u001b[39m time_per_word(p, [\u001b[39m'\u001b[39;49m\u001b[39mcollar\u001b[39;49m\u001b[39m'\u001b[39;49m, \u001b[39m'\u001b[39;49m\u001b[39mplush\u001b[39;49m\u001b[39m'\u001b[39;49m, \u001b[39m'\u001b[39;49m\u001b[39mblush\u001b[39;49m\u001b[39m'\u001b[39;49m, \u001b[39m'\u001b[39;49m\u001b[39mrepute\u001b[39;49m\u001b[39m'\u001b[39;49m])\n",
      "\u001b[1;32m/Users/liufazhong/Documents/GitHub/CS61A/cats/try.ipynb Cell 1'\u001b[0m in \u001b[0;36mtime_per_word\u001b[0;34m(times_per_player, words)\u001b[0m\n\u001b[1;32m      <a href='vscode-notebook-cell:/Users/liufazhong/Documents/GitHub/CS61A/cats/try.ipynb#ch0000000?line=2'>3</a>\u001b[0m \u001b[39mfor\u001b[39;00m i \u001b[39min\u001b[39;00m \u001b[39mrange\u001b[39m(\u001b[39mlen\u001b[39m(times_per_player)):\n\u001b[1;32m      <a href='vscode-notebook-cell:/Users/liufazhong/Documents/GitHub/CS61A/cats/try.ipynb#ch0000000?line=3'>4</a>\u001b[0m     s\u001b[39m=\u001b[39m[]\n\u001b[0;32m----> <a href='vscode-notebook-cell:/Users/liufazhong/Documents/GitHub/CS61A/cats/try.ipynb#ch0000000?line=4'>5</a>\u001b[0m     \u001b[39mfor\u001b[39;00m j \u001b[39min\u001b[39;00m \u001b[39mrange\u001b[39m(\u001b[39m1\u001b[39m,\u001b[39mlen\u001b[39m(time_per_word[i])):\n\u001b[1;32m      <a href='vscode-notebook-cell:/Users/liufazhong/Documents/GitHub/CS61A/cats/try.ipynb#ch0000000?line=5'>6</a>\u001b[0m         s\u001b[39m.\u001b[39mappend(time_per_word[i][j]\u001b[39m-\u001b[39mtime_per_word[i][j\u001b[39m-\u001b[39m\u001b[39m1\u001b[39m])\n\u001b[1;32m      <a href='vscode-notebook-cell:/Users/liufazhong/Documents/GitHub/CS61A/cats/try.ipynb#ch0000000?line=6'>7</a>\u001b[0m     q\u001b[39m.\u001b[39mappend(s)\n",
      "\u001b[0;31mTypeError\u001b[0m: 'function' object is not subscriptable"
     ]
    }
   ],
   "source": [
    "p = [[75, 81, 84, 90, 92], [19, 29, 35, 36, 38]]\n",
    "game = time_per_word(p, ['collar', 'plush', 'blush', 'repute'])"
   ]
  }
 ],
 "metadata": {
  "interpreter": {
   "hash": "aee8b7b246df8f9039afb4144a1f6fd8d2ca17a180786b69acc140d282b71a49"
  },
  "kernelspec": {
   "display_name": "Python 3.9.6 64-bit",
   "language": "python",
   "name": "python3"
  },
  "language_info": {
   "codemirror_mode": {
    "name": "ipython",
    "version": 3
   },
   "file_extension": ".py",
   "mimetype": "text/x-python",
   "name": "python",
   "nbconvert_exporter": "python",
   "pygments_lexer": "ipython3",
   "version": "3.9.6"
  },
  "orig_nbformat": 4
 },
 "nbformat": 4,
 "nbformat_minor": 2
}
